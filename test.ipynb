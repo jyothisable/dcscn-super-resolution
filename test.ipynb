{
 "cells": [
  {
   "cell_type": "code",
   "execution_count": 10,
   "metadata": {},
   "outputs": [],
   "source": [
    "import numpy as np\n",
    "from PIL import Image\n",
    "from helper import utilty as util"
   ]
  },
  {
   "cell_type": "code",
   "execution_count": 11,
   "metadata": {},
   "outputs": [],
   "source": [
    "image = Image.open(\n",
    "    '/home/jyothisable/P.A.R.A/1.Projects/mtp/Softwares/VS code/Solar_Insolation_Calculator/data/outputs/0.25@0.25km_train/0.25@0.25km_jamnagar_D2_H11.5.tif')\n",
    "# image = image.convert(mode='RGB')\n",
    "data = np.asarray(image)"
   ]
  },
  {
   "cell_type": "code",
   "execution_count": 12,
   "metadata": {},
   "outputs": [
    {
     "name": "stdout",
     "output_type": "stream",
     "text": [
      "[[470.6174  474.80325 466.3306  ... 477.4859  467.72986 462.11664]\n",
      " [464.11346 456.99084 460.7448  ... 461.3326  448.4501  457.11682]\n",
      " [457.19992 455.09784 457.11395 ... 467.585   459.1278  472.0081 ]\n",
      " ...\n",
      " [487.1461  491.4656  480.9423  ... 465.07117 478.35147 460.41882]\n",
      " [520.896   484.2661  486.4381  ... 445.35037 488.6854  473.9419 ]\n",
      " [489.0587  482.74536 478.22702 ... 283.8146  283.75568 482.8126 ]]\n"
     ]
    }
   ],
   "source": [
    "print(data)"
   ]
  }
 ],
 "metadata": {
  "interpreter": {
   "hash": "6565a0fc73675574297019b662ffe8ad9da522b32cfbd04324725dba88728a8f"
  },
  "kernelspec": {
   "display_name": "Python 3.5.6 64-bit ('dcscn': conda)",
   "language": "python",
   "name": "python3"
  },
  "language_info": {
   "codemirror_mode": {
    "name": "ipython",
    "version": 3
   },
   "file_extension": ".py",
   "mimetype": "text/x-python",
   "name": "python",
   "nbconvert_exporter": "python",
   "pygments_lexer": "ipython3",
   "version": "3.10.2"
  },
  "orig_nbformat": 4
 },
 "nbformat": 4,
 "nbformat_minor": 2
}
